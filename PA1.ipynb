{
 "cells": [
  {
   "cell_type": "code",
   "execution_count": 2,
   "id": "c43d2af1-01ee-46ad-a465-c32174be0893",
   "metadata": {},
   "outputs": [
    {
     "name": "stdout",
     "output_type": "stream",
     "text": [
      "acehkr\n"
     ]
    }
   ],
   "source": [
    "def alphabet_soup(s):\n",
    "    #Sort the string\n",
    "    print (\"\".join(sorted(s)))\n",
    "#Function for the string\n",
    "alphabet_soup(\"hacker\")"
   ]
  },
  {
   "cell_type": "code",
   "execution_count": 10,
   "id": "b7bb79b0-def6-4a58-8198-259a0d457da7",
   "metadata": {},
   "outputs": [
    {
     "name": "stdout",
     "output_type": "stream",
     "text": [
      "Make me :)\n"
     ]
    }
   ],
   "source": [
    "def emotify(s):\n",
    "    #Replace the word \"Smile\" with \":)\"\n",
    "    s = s.replace(\"Smile\", \":)\")\n",
    "    #Replace the word \"Grin\" with \":D\"\n",
    "    s = s.replace(\"Grin\", \":D\")\n",
    "    #Replace the word \"Sad\" with \":((\"\n",
    "    s = s.replace(\"Sad\", \":((\")\n",
    "    #Replace the word \"mad\" with \">:(\"\n",
    "    s = s.replace(\"Mad\", \">:(\")\n",
    "    #Return the string\n",
    "    return s\n",
    "\n",
    "#Print the result \n",
    "print (emotify(\"Make me Smile\"))"
   ]
  },
  {
   "cell_type": "code",
   "execution_count": 28,
   "id": "7b03da12-f20d-4d3f-bdad-5bacb0c9c179",
   "metadata": {},
   "outputs": [
    {
     "name": "stdout",
     "output_type": "stream",
     "text": [
      "first: 1, middle: [2, 3, 4, 5], last: 6\n"
     ]
    }
   ],
   "source": [
    "def unpack_list(lst):\n",
    "    #Name the first element of the list to the variable 'first'\n",
    "    first = lst[0]\n",
    "    \n",
    "    #Name the last element of the list to the variable 'last'\n",
    "    last = lst[-1]\n",
    "    \n",
    "    #Name all elements of the list except the first and last to the variable 'middle'\n",
    "    middle = lst[1:-1]\n",
    "    \n",
    "    #Name the first, middle, and last elements in a formatted string\n",
    "    print(\"first: {}, middle: {}, last: {}\".format(first, middle, last))\n",
    "\n",
    "# Call the function 'unpack_list' with a list of integers to print wanted result\n",
    "unpack_list(lst = [1, 2, 3, 4, 5, 6])"
   ]
  },
  {
   "cell_type": "code",
   "execution_count": null,
   "id": "edf09825-2432-4668-92b6-0b514336d6a1",
   "metadata": {},
   "outputs": [],
   "source": []
  }
 ],
 "metadata": {
  "kernelspec": {
   "display_name": "Python 3 (ipykernel)",
   "language": "python",
   "name": "python3"
  },
  "language_info": {
   "codemirror_mode": {
    "name": "ipython",
    "version": 3
   },
   "file_extension": ".py",
   "mimetype": "text/x-python",
   "name": "python",
   "nbconvert_exporter": "python",
   "pygments_lexer": "ipython3",
   "version": "3.12.4"
  }
 },
 "nbformat": 4,
 "nbformat_minor": 5
}
